{
 "cells": [
  {
   "cell_type": "code",
   "execution_count": 63,
   "metadata": {},
   "outputs": [
    {
     "name": "stdout",
     "output_type": "stream",
     "text": [
      "No Qs here.\n"
     ]
    }
   ],
   "source": [
    "surname = input(\"What is your surname? \")\n",
    "surname = surname.lower()\n",
    "\n",
    "if surname[0] == \"q\":\n",
    "    print(\"You have an extremely rare surname!\")\n",
    "elif \"q\" in surname:\n",
    "    print(\"You have a rare surname!\")\n",
    "else:\n",
    "    print(\"No Qs here.\")"
   ]
  },
  {
   "cell_type": "code",
   "execution_count": 64,
   "metadata": {},
   "outputs": [
    {
     "name": "stdout",
     "output_type": "stream",
     "text": [
      "Valid.\n"
     ]
    }
   ],
   "source": [
    "def check_if_imei_valid(imei_number):\n",
    "    imei_number = list(str(imei_number))\n",
    "    # double every second number from the right\n",
    "    doubling_index = len(imei_number) - 2\n",
    "    doubled_imei = imei_number\n",
    "    while doubling_index >= 0:\n",
    "        doubled_digit = int(imei_number[doubling_index]) * 2\n",
    "        doubled_imei[doubling_index] = str(doubled_digit)\n",
    "        doubling_index -= 2\n",
    "    # sum all digits\n",
    "    doubled_imei = list(\"\".join(doubled_imei))\n",
    "    sum_of_digits = 0\n",
    "    for digit in doubled_imei:\n",
    "        sum_of_digits += int(digit)\n",
    "    if sum_of_digits % 10 == 0:\n",
    "        return True\n",
    "    else:\n",
    "        return False\n",
    "\n",
    "if check_if_imei_valid(input(\"Enter number: \")):\n",
    "    print(\"Valid.\")\n",
    "else:\n",
    "    print(\"Invalid.\")"
   ]
  },
  {
   "cell_type": "code",
   "execution_count": 65,
   "metadata": {},
   "outputs": [
    {
     "name": "stdout",
     "output_type": "stream",
     "text": [
      "EASTS 6\n",
      "WESTS 3\n"
     ]
    }
   ],
   "source": [
    "# Read from week1_commentary.txt\n",
    "with open(\"week1_commentary.txt\", 'r') as f:\n",
    "    text = f.read()\n",
    "    lines = text.split('\\n')\n",
    "\n",
    "    scores = {}\n",
    "    scores[lines[0].split(\" \")[0]] = 0\n",
    "    scores[lines[0].split(\" \")[2]] = 0\n",
    "\n",
    "    for line in lines[1:]:\n",
    "        line = line.split(\" \")\n",
    "        team_name = line[0]\n",
    "        if team_name in scores:\n",
    "            scores[team_name] += 1\n",
    "\n",
    "    sorted_scores = sorted(scores.items(), key=lambda x:x[1], reverse=True)\n",
    "    print(f\"{sorted_scores[0][0]} {sorted_scores[0][1]}\\n{sorted_scores[1][0]} {sorted_scores[1][1]}\")\n"
   ]
  },
  {
   "cell_type": "code",
   "execution_count": 66,
   "metadata": {},
   "outputs": [
    {
     "name": "stdout",
     "output_type": "stream",
     "text": [
      "foo\n",
      "rawInput\n",
      "num2words\n",
      "numToSMS\n"
     ]
    }
   ],
   "source": [
    "def to_camel(var_name):\n",
    "    words = var_name.split('_')\n",
    "\n",
    "    lowercase_letters = 'abcdefghijklmnopqrstuvwxyz'\n",
    "\n",
    "    new_words = []\n",
    "    name_index = 0\n",
    "    for word in words:\n",
    "        if name_index == 0:\n",
    "            new_words.append(word)\n",
    "        else:\n",
    "            if word[0] in lowercase_letters:\n",
    "                new_words.append(word[0].upper() + word[1:])\n",
    "            else:\n",
    "                new_words.append(word)\n",
    "\n",
    "        name_index += 1\n",
    "\n",
    "    return \"\".join(new_words)\n",
    "\n",
    "print(to_camel('foo'))\n",
    "print(to_camel('raw_input'))\n",
    "print(to_camel('num2words'))\n",
    "print(to_camel('num_to_SMS'))"
   ]
  },
  {
   "cell_type": "code",
   "execution_count": 67,
   "metadata": {},
   "outputs": [
    {
     "name": "stdout",
     "output_type": "stream",
     "text": [
      " is autobiographical.\n"
     ]
    }
   ],
   "source": [
    "input_number = input(\"Number: \")\n",
    "\n",
    "def is_autobiographical(input_number):\n",
    "    autobiographical = True\n",
    "    # if a number has more than 10 digits its not autobiographical\n",
    "    if len(input_number) > 10:\n",
    "        autobiographical = False\n",
    "        return autobiographical\n",
    "    \n",
    "    numbers = {}\n",
    "\n",
    "    for i in range(10):\n",
    "        numbers[str(i)] = 0\n",
    "    \n",
    "    # count digits\n",
    "    for digit in input_number:\n",
    "        numbers[digit] += 1\n",
    "\n",
    "    # check if count matches input number\n",
    "    for digit_index in range(len(input_number)):\n",
    "        if str(input_number[digit_index]) != str(numbers[str(digit_index)]):\n",
    "            autobiographical = False\n",
    "            return autobiographical\n",
    "\n",
    "    return autobiographical\n",
    "\n",
    "\n",
    "if (is_autobiographical(input_number)):\n",
    "    print(f\"{input_number} is autobiographical.\")\n",
    "else:\n",
    "    print(f\"{input_number} is not autobiographical.\")"
   ]
  }
 ],
 "metadata": {
  "kernelspec": {
   "display_name": "Python 3",
   "language": "python",
   "name": "python3"
  },
  "language_info": {
   "codemirror_mode": {
    "name": "ipython",
    "version": 3
   },
   "file_extension": ".py",
   "mimetype": "text/x-python",
   "name": "python",
   "nbconvert_exporter": "python",
   "pygments_lexer": "ipython3",
   "version": "3.11.3"
  },
  "orig_nbformat": 4
 },
 "nbformat": 4,
 "nbformat_minor": 2
}
